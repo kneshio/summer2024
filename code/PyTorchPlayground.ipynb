{
 "cells": [
  {
   "cell_type": "markdown",
   "id": "ae0ea33c",
   "metadata": {},
   "source": [
    "## What are Tensors?"
   ]
  },
  {
   "cell_type": "code",
   "execution_count": 5,
   "id": "d5eaa25e",
   "metadata": {},
   "outputs": [],
   "source": [
    "%matplotlib inline\n",
    "import torch\n",
    "import numpy as np"
   ]
  },
  {
   "cell_type": "code",
   "execution_count": 6,
   "id": "f4f545d0",
   "metadata": {},
   "outputs": [],
   "source": [
    "#created data directly from data \n",
    "data = [[1, 2], [3, 4]]\n",
    "x_data = torch.tensor(data)"
   ]
  },
  {
   "cell_type": "code",
   "execution_count": 7,
   "id": "1fae18fb",
   "metadata": {},
   "outputs": [
    {
     "name": "stdout",
     "output_type": "stream",
     "text": [
      "Numpy np_array value: \n",
      " [[1 2]\n",
      " [3 4]] \n",
      "\n",
      "Tensor x_np value: \n",
      " tensor([[1, 2],\n",
      "        [3, 4]]) \n",
      "\n",
      "Numpy np_array after * 2 operations: \n",
      " [[2 4]\n",
      " [6 8]] \n",
      "\n",
      "Tensor x_np value after modifying numpy array: \n",
      " tensor([[2, 4],\n",
      "        [6, 8]]) \n",
      "\n"
     ]
    }
   ],
   "source": [
    "#Tensors and NP share same memory address when you tell them to\n",
    "\n",
    "np_array = np.array(data)\n",
    "x_np = torch.from_numpy(np_array)\n",
    "\n",
    "print(f\"Numpy np_array value: \\n {np_array} \\n\")\n",
    "print(f\"Tensor x_np value: \\n {x_np} \\n\")\n",
    "\n",
    "np.multiply(np_array, 2, out= np_array)\n",
    "\n",
    "print(f\"Numpy np_array after * 2 operations: \\n {np_array} \\n\")\n",
    "print(f\"Tensor x_np value after modifying numpy array: \\n {x_np} \\n\")"
   ]
  },
  {
   "cell_type": "code",
   "execution_count": 8,
   "id": "58933977",
   "metadata": {},
   "outputs": [
    {
     "name": "stdout",
     "output_type": "stream",
     "text": [
      "Ones Tensor: \n",
      " tensor([[1, 1],\n",
      "        [1, 1]]) \n",
      "\n",
      "Random Tensor: \n",
      " tensor([[0.6158, 0.7247],\n",
      "        [0.3640, 0.9249]]) \n",
      "\n"
     ]
    }
   ],
   "source": [
    "#first line makes an array of ones \n",
    "x_ones = torch.ones_like(x_data) #retains properties of x_data\n",
    "print(f\"Ones Tensor: \\n {x_ones} \\n\")\n",
    "\n",
    "#randomizes in the same arr space \n",
    "x_rand = torch.rand_like(x_data, dtype=torch.float) #overrides the datatype of x_data\n",
    "print(f\"Random Tensor: \\n {x_rand} \\n\")"
   ]
  },
  {
   "cell_type": "code",
   "execution_count": 9,
   "id": "478a738c",
   "metadata": {},
   "outputs": [
    {
     "name": "stdout",
     "output_type": "stream",
     "text": [
      "Random Tensor: \n",
      " tensor([[0.5549, 0.7276, 0.8647],\n",
      "        [0.2712, 0.3799, 0.6636]]) \n",
      "\n",
      "Ones Tensor: \n",
      " tensor([[1., 1., 1.],\n",
      "        [1., 1., 1.]]) \n",
      "\n"
     ]
    }
   ],
   "source": [
    "#makes different types of tensors with the same shape\n",
    "\n",
    "shape = (2, 3)\n",
    "rand_tensor = torch.rand(shape)\n",
    "ones_tensor  = torch.ones(shape)\n",
    "zeros_tensor = torch.zeros(shape)\n",
    "\n",
    "print(f\"Random Tensor: \\n {rand_tensor} \\n\")\n",
    "print(f\"Ones Tensor: \\n {ones_tensor} \\n\")\n",
    "#print(f\"Zeros Tensor: \\n {zeros_tensor}\")"
   ]
  },
  {
   "cell_type": "code",
   "execution_count": 10,
   "id": "39975b5e",
   "metadata": {},
   "outputs": [
    {
     "name": "stdout",
     "output_type": "stream",
     "text": [
      "Shape of tensor: torch.Size([3, 4])\n",
      "Datatype of tenor: torch.float32\n",
      "Device tensor is stored on: cpu\n"
     ]
    }
   ],
   "source": [
    "#displays information about the tensor\n",
    "\n",
    "tensor = torch.rand(3, 4)\n",
    "\n",
    "print(f\"Shape of tensor: {tensor.shape}\")\n",
    "print(f\"Datatype of tenor: {tensor.dtype}\")\n",
    "print(f\"Device tensor is stored on: {tensor.device}\")"
   ]
  },
  {
   "cell_type": "code",
   "execution_count": 11,
   "id": "bb70504f",
   "metadata": {},
   "outputs": [
    {
     "name": "stdout",
     "output_type": "stream",
     "text": [
      "Device tensor is stored on: cpu...nice try though\n"
     ]
    }
   ],
   "source": [
    "#Trying to move to CUDA \n",
    "if torch.cuda.is_available():\n",
    "    tensor = tensor.to('cuda')\n",
    "if tensor.device == 'cuda':\n",
    "    print(\"Congrats! You have cuda!\")\n",
    "else:\n",
    "    print(f\"Device tensor is stored on: {tensor.device}...nice try though\")"
   ]
  },
  {
   "cell_type": "code",
   "execution_count": 12,
   "id": "d860acad",
   "metadata": {},
   "outputs": [
    {
     "name": "stdout",
     "output_type": "stream",
     "text": [
      "First row: tensor([1., 1., 1., 1.])\n",
      "First column:  tensor([1., 1., 1., 1.])\n",
      "Last column: tensor([1., 1., 1., 1.])\n",
      "tensor([[1., 0., 1., 1.],\n",
      "        [1., 0., 1., 1.],\n",
      "        [1., 0., 1., 1.],\n",
      "        [1., 0., 1., 1.]])\n"
     ]
    }
   ],
   "source": [
    "#numpy-like indexing and slicing\n",
    "\n",
    "tensor = torch.ones(4, 4)\n",
    "print('First row:', tensor[0])\n",
    "print('First column: ', tensor[:, 0])\n",
    "print('Last column:', tensor[..., -1])\n",
    "tensor[:, 1] = 0\n",
    "print(tensor)"
   ]
  },
  {
   "cell_type": "code",
   "execution_count": 13,
   "id": "3b0cca42",
   "metadata": {},
   "outputs": [
    {
     "name": "stdout",
     "output_type": "stream",
     "text": [
      "tensor([[1., 0., 1., 1., 1., 0., 1., 1., 1., 0., 1., 1.],\n",
      "        [1., 0., 1., 1., 1., 0., 1., 1., 1., 0., 1., 1.],\n",
      "        [1., 0., 1., 1., 1., 0., 1., 1., 1., 0., 1., 1.],\n",
      "        [1., 0., 1., 1., 1., 0., 1., 1., 1., 0., 1., 1.]])\n",
      "\n",
      "\n",
      "tensor([[[1.0000, 0.0000, 1.0000, 1.0000, 1.0000, 0.0000, 1.0000, 1.0000,\n",
      "          1.0000, 0.0000, 1.0000, 1.0000],\n",
      "         [1.0000, 0.0000, 1.0000, 1.0000, 1.0000, 0.0000, 1.0000, 1.0000,\n",
      "          1.0000, 0.0000, 1.0000, 1.0000],\n",
      "         [1.0000, 0.0000, 1.0000, 1.0000, 1.0000, 0.0000, 1.0000, 1.0000,\n",
      "          1.0000, 0.0000, 1.0000, 1.0000],\n",
      "         [1.0000, 0.0000, 1.0000, 1.0000, 1.0000, 0.0000, 1.0000, 1.0000,\n",
      "          1.0000, 0.0000, 1.0000, 1.0000]],\n",
      "\n",
      "        [[0.2698, 0.9234, 0.4556, 0.3567, 0.0654, 0.9186, 0.3638, 0.2946,\n",
      "          0.6148, 0.1557, 0.6704, 0.4572],\n",
      "         [0.7945, 0.3339, 0.6301, 0.4802, 0.2068, 0.5387, 0.5218, 0.7434,\n",
      "          0.7248, 0.7502, 0.4696, 0.9733],\n",
      "         [0.0707, 0.7180, 0.1242, 0.7542, 0.3979, 0.1657, 0.0017, 0.4645,\n",
      "          0.9799, 0.3748, 0.5102, 0.7159],\n",
      "         [0.3429, 0.5911, 0.8175, 0.7901, 0.9260, 0.8690, 0.7173, 0.4129,\n",
      "          0.3152, 0.4373, 0.9909, 0.8285]]])\n"
     ]
    }
   ],
   "source": [
    "#torch.cat concatenates, torch.stack joins in new dimension\n",
    "\n",
    "t1 = torch.cat([tensor, tensor, tensor], dim= 1)\n",
    "print(t1)\n",
    "print(f'\\n')\n",
    "t2 = torch.stack((t1, torch.rand(4, 12)))\n",
    "print(t2)"
   ]
  },
  {
   "cell_type": "code",
   "execution_count": 14,
   "id": "60349b39",
   "metadata": {},
   "outputs": [
    {
     "data": {
      "text/plain": [
       "tensor([[1., 0., 1., 1.],\n",
       "        [1., 0., 1., 1.],\n",
       "        [1., 0., 1., 1.],\n",
       "        [1., 0., 1., 1.]])"
      ]
     },
     "execution_count": 14,
     "metadata": {},
     "output_type": "execute_result"
    }
   ],
   "source": [
    "# Matrix multiplication \n",
    "\n",
    "#transposes the tensor\n",
    "#[[1, 2, 3] [4, 5, 6], [7, 8, 9]] becomes [[1, 4, 7]. [2, 5, 6], [3, 6, 9]]\n",
    "\n",
    "y1 = tensor @ tensor.T\n",
    "\n",
    "y2 = tensor.matmul(tensor.T)\n",
    "\n",
    "y3 = torch.rand_like(tensor)\n",
    "torch.matmul(tensor, tensor.T, out=y3)\n",
    "\n",
    "#Computes the element-wise product\n",
    "\n",
    "z1 = tensor * tensor\n",
    "z2 = tensor.mul(tensor)\n",
    "\n",
    "z3 = torch.rand_like(tensor)\n",
    "torch.mul(tensor, tensor, out=z3)\n",
    "\n",
    "\n",
    "#I'm honestly not sure what the tutorial was trying\n",
    "#to accomplish"
   ]
  },
  {
   "cell_type": "code",
   "execution_count": 15,
   "id": "9a7528c3",
   "metadata": {},
   "outputs": [
    {
     "name": "stdout",
     "output_type": "stream",
     "text": [
      "12.0 <class 'float'>\n"
     ]
    }
   ],
   "source": [
    "#aggregates values into one tensor\n",
    "\n",
    "agg = tensor.sum()\n",
    "agg_item = agg.item()\n",
    "print(agg_item, type(agg_item))"
   ]
  },
  {
   "cell_type": "code",
   "execution_count": 16,
   "id": "f247e142",
   "metadata": {},
   "outputs": [
    {
     "name": "stdout",
     "output_type": "stream",
     "text": [
      "tensor([[1., 0., 1., 1.],\n",
      "        [1., 0., 1., 1.],\n",
      "        [1., 0., 1., 1.],\n",
      "        [1., 0., 1., 1.]]) \n",
      "\n",
      "tensor([[6., 5., 6., 6.],\n",
      "        [6., 5., 6., 6.],\n",
      "        [6., 5., 6., 6.],\n",
      "        [6., 5., 6., 6.]])\n"
     ]
    }
   ],
   "source": [
    "#Don't do this\n",
    "\n",
    "print(tensor, \"\\n\")\n",
    "tensor.add_(5) #adds in place (BAD) but fast\n",
    "print(tensor)"
   ]
  },
  {
   "cell_type": "code",
   "execution_count": 17,
   "id": "0c5bcd9a",
   "metadata": {},
   "outputs": [
    {
     "name": "stdout",
     "output_type": "stream",
     "text": [
      "t: tensor([1., 1., 1., 1., 1.])\n",
      "n: [1. 1. 1. 1. 1.]\n"
     ]
    }
   ],
   "source": [
    "#Tensors on the CPU and NP arrays can share memory locations\n",
    "t = torch.ones(5)\n",
    "print(f\"t: {t}\")\n",
    "n = t.numpy()\n",
    "print(f\"n: {n}\")"
   ]
  },
  {
   "cell_type": "code",
   "execution_count": 18,
   "id": "69528356",
   "metadata": {},
   "outputs": [
    {
     "name": "stdout",
     "output_type": "stream",
     "text": [
      "t: tensor([2., 2., 2., 2., 2.])\n",
      "n: [2. 2. 2. 2. 2.]\n"
     ]
    }
   ],
   "source": [
    "t.add_(1)\n",
    "print(f\"t: {t}\")\n",
    "print(f\"n: {n}\")"
   ]
  },
  {
   "cell_type": "code",
   "execution_count": 19,
   "id": "de9b8cd7",
   "metadata": {},
   "outputs": [],
   "source": [
    "#NP array to tensor\n",
    "\n",
    "n = np.ones(5)\n",
    "t = torch.from_numpy(n)"
   ]
  },
  {
   "cell_type": "code",
   "execution_count": 20,
   "id": "e0aa7a8e",
   "metadata": {},
   "outputs": [
    {
     "name": "stdout",
     "output_type": "stream",
     "text": [
      "t: tensor([2., 2., 2., 2., 2.], dtype=torch.float64)\n",
      "n: [2. 2. 2. 2. 2.]\n"
     ]
    }
   ],
   "source": [
    "np.add(n, 1, out=n)\n",
    "print(f\"t: {t}\")\n",
    "print(f\"n: {n}\")"
   ]
  },
  {
   "cell_type": "markdown",
   "id": "6744adf8",
   "metadata": {},
   "source": [
    "## Loading and normalizing datasets"
   ]
  },
  {
   "cell_type": "code",
   "execution_count": 22,
   "id": "caba2bf0",
   "metadata": {},
   "outputs": [
    {
     "name": "stdout",
     "output_type": "stream",
     "text": [
      "Downloading http://fashion-mnist.s3-website.eu-central-1.amazonaws.com/train-images-idx3-ubyte.gz\n",
      "Downloading http://fashion-mnist.s3-website.eu-central-1.amazonaws.com/train-images-idx3-ubyte.gz to data/FashionMNIST/raw/train-images-idx3-ubyte.gz\n"
     ]
    },
    {
     "name": "stderr",
     "output_type": "stream",
     "text": [
      "100.0%\n"
     ]
    },
    {
     "name": "stdout",
     "output_type": "stream",
     "text": [
      "Extracting data/FashionMNIST/raw/train-images-idx3-ubyte.gz to data/FashionMNIST/raw\n",
      "\n",
      "Downloading http://fashion-mnist.s3-website.eu-central-1.amazonaws.com/train-labels-idx1-ubyte.gz\n"
     ]
    },
    {
     "name": "stderr",
     "output_type": "stream",
     "text": [
      "\r",
      "100.0%"
     ]
    },
    {
     "name": "stdout",
     "output_type": "stream",
     "text": [
      "Downloading http://fashion-mnist.s3-website.eu-central-1.amazonaws.com/train-labels-idx1-ubyte.gz to data/FashionMNIST/raw/train-labels-idx1-ubyte.gz\n",
      "Extracting data/FashionMNIST/raw/train-labels-idx1-ubyte.gz to data/FashionMNIST/raw\n",
      "\n",
      "Downloading http://fashion-mnist.s3-website.eu-central-1.amazonaws.com/t10k-images-idx3-ubyte.gz\n"
     ]
    },
    {
     "name": "stderr",
     "output_type": "stream",
     "text": [
      "\n"
     ]
    },
    {
     "name": "stdout",
     "output_type": "stream",
     "text": [
      "Downloading http://fashion-mnist.s3-website.eu-central-1.amazonaws.com/t10k-images-idx3-ubyte.gz to data/FashionMNIST/raw/t10k-images-idx3-ubyte.gz\n"
     ]
    },
    {
     "name": "stderr",
     "output_type": "stream",
     "text": [
      "100.0%\n"
     ]
    },
    {
     "name": "stdout",
     "output_type": "stream",
     "text": [
      "Extracting data/FashionMNIST/raw/t10k-images-idx3-ubyte.gz to data/FashionMNIST/raw\n",
      "\n",
      "Downloading http://fashion-mnist.s3-website.eu-central-1.amazonaws.com/t10k-labels-idx1-ubyte.gz\n"
     ]
    },
    {
     "name": "stderr",
     "output_type": "stream",
     "text": [
      "\r",
      "100.0%"
     ]
    },
    {
     "name": "stdout",
     "output_type": "stream",
     "text": [
      "Downloading http://fashion-mnist.s3-website.eu-central-1.amazonaws.com/t10k-labels-idx1-ubyte.gz to data/FashionMNIST/raw/t10k-labels-idx1-ubyte.gz\n",
      "Extracting data/FashionMNIST/raw/t10k-labels-idx1-ubyte.gz to data/FashionMNIST/raw\n",
      "\n"
     ]
    },
    {
     "name": "stderr",
     "output_type": "stream",
     "text": [
      "\n"
     ]
    }
   ],
   "source": [
    "#sets everything up\n",
    "#training data is already known\n",
    "#test data has not been trained\n",
    "\n",
    "%matplotlib inline\n",
    "import torch\n",
    "from torch.utils.data import Dataset\n",
    "from torchvision import datasets\n",
    "from torchvision.transforms import ToTensor, Lambda\n",
    "import matplotlib.pyplot as plt\n",
    "\n",
    "training_data = datasets.FashionMNIST(\n",
    "    root=\"data\",\n",
    "    train = True,\n",
    "    download = True,\n",
    "    transform = ToTensor()\n",
    ")\n",
    "\n",
    "test_data = datasets.FashionMNIST(\n",
    "    root = \"data\",\n",
    "    train = False,\n",
    "    download = True,\n",
    "    transform = ToTensor()\n",
    ")"
   ]
  },
  {
   "cell_type": "code",
   "execution_count": 30,
   "id": "d7866ea0",
   "metadata": {
    "scrolled": true
   },
   "outputs": [
    {
     "data": {
      "image/png": "[encoded data removed]",
      "text/plain": [
       "<Figure size 576x576 with 9 Axes>"
      ]
     },
     "metadata": {
      "needs_background": "light"
     },
     "output_type": "display_data"
    }
   ],
   "source": [
    "labels_map = {\n",
    "    0: \"T-Shirt\",\n",
    "    1: \"Trouser\",\n",
    "    2: \"Pullover\",\n",
    "    3: \"Dress\",\n",
    "    4: \"Coat\",\n",
    "    5: \"Sandal\",\n",
    "    6: \"Shirt\",\n",
    "    7: \"Sneaker\",\n",
    "    8: \"Bag\",\n",
    "    9: \"Ankle Boot\",\n",
    "}\n",
    "\n",
    "#lists the things from the training data\n",
    "figure = plt.figure(figsize =(8, 8))\n",
    "cols, rows = 3, 3\n",
    "\n",
    "for i in range(1, cols * rows + 1):\n",
    "    sample_idx = torch.randint(len(training_data), size=(1,)).item()\n",
    "    img, label = training_data[sample_idx]\n",
    "    figure.add_subplot(rows, cols, i)\n",
    "    plt.title(labels_map[label])\n",
    "    plt.axis(\"off\")\n",
    "    plt.imshow(img.squeeze(), cmap=\"gray\")\n",
    "plt.show()"
   ]
  },
  {
   "cell_type": "code",
   "execution_count": 32,
   "id": "5db67ed3",
   "metadata": {},
   "outputs": [],
   "source": [
    "from torch.utils.data import DataLoader\n",
    "\n",
    "#shuffle\n",
    "train_dataloader = DataLoader(training_data, batch_size=64, shuffle=True)\n",
    "test_dataloader = DataLoader(test_data, batch_size=64, shuffle=True)"
   ]
  },
  {
   "cell_type": "code",
   "execution_count": 36,
   "id": "c9e07ec5",
   "metadata": {},
   "outputs": [
    {
     "name": "stdout",
     "output_type": "stream",
     "text": [
      "Feature batch shape: torch.Size([64, 1, 28, 28])\n",
      "Labels batch shape: torch.Size([64])\n"
     ]
    },
    {
     "data": {
      "image/png": "[encoded data removed]",
      "text/plain": [
       "<Figure size 432x288 with 1 Axes>"
      ]
     },
     "metadata": {
      "needs_background": "light"
     },
     "output_type": "display_data"
    },
    {
     "name": "stdout",
     "output_type": "stream",
     "text": [
      "Label: Sandal\n"
     ]
    }
   ],
   "source": [
    "#Display image and label \n",
    "\n",
    "train_features, train_labels = next(iter(train_dataloader))\n",
    "print(f\"Feature batch shape: {train_features.size()}\")\n",
    "print(f\"Labels batch shape: {train_labels.size()}\")\n",
    "img = train_features[0].squeeze()\n",
    "label = train_labels[0]\n",
    "plt.imshow(img, cmap=\"gray\")\n",
    "plt.show()\n",
    "label_name = list(labels_map.values())[label]\n",
    "print(f\"Label: {label_name}\")"
   ]
  },
  {
   "cell_type": "markdown",
   "id": "3b6601a6",
   "metadata": {},
   "source": [
    "## Neural Network"
   ]
  },
  {
   "cell_type": "code",
   "execution_count": 39,
   "id": "dca0f8f1",
   "metadata": {},
   "outputs": [],
   "source": [
    "%matplotlib inline\n",
    "import os\n",
    "import torch\n",
    "from torch import nn\n",
    "from torch.utils.data import DataLoader\n",
    "from torchvision import datasets, transforms"
   ]
  },
  {
   "cell_type": "code",
   "execution_count": 41,
   "id": "221c7793",
   "metadata": {},
   "outputs": [
    {
     "name": "stdout",
     "output_type": "stream",
     "text": [
      "Using cpu device\n"
     ]
    }
   ],
   "source": [
    "device = 'cuda' if torch.cuda.is_available() else 'cpu'\n",
    "print('Using {} device'.format(device))"
   ]
  },
  {
   "cell_type": "code",
   "execution_count": 47,
   "id": "409fa506",
   "metadata": {},
   "outputs": [],
   "source": [
    "class NeuralNetwork(nn.Module):\n",
    "    def __init__(self):\n",
    "        super(NeuralNetwork, self).__init__()\n",
    "        self.flatten = nn.Flatten()\n",
    "        self.linear_relu_stack = nn.Sequential(\n",
    "            #first input layer is 28x28\n",
    "            nn.Linear(28*28, 512),\n",
    "            #ReLU activation\n",
    "            #AKA rectified linear activation function \n",
    "            #AKAAKA makes things either 0 or positive\n",
    "            nn.ReLU(),\n",
    "            nn.Linear(512, 512),\n",
    "            nn.ReLU()\n",
    "        )\n",
    "    \n",
    "    def forward(self, x):\n",
    "        x = self.flatten(x)\n",
    "        logits = self.linear_relu_stack(x)\n",
    "        return logits"
   ]
  },
  {
   "cell_type": "code",
   "execution_count": 49,
   "id": "ad695402",
   "metadata": {},
   "outputs": [
    {
     "name": "stdout",
     "output_type": "stream",
     "text": [
      "NeuralNetwork(\n",
      "  (flatten): Flatten(start_dim=1, end_dim=-1)\n",
      "  (linear_relu_stack): Sequential(\n",
      "    (0): Linear(in_features=784, out_features=512, bias=True)\n",
      "    (1): ReLU()\n",
      "    (2): Linear(in_features=512, out_features=512, bias=True)\n",
      "    (3): ReLU()\n",
      "  )\n",
      ")\n"
     ]
    }
   ],
   "source": [
    "model = NeuralNetwork().to(device)\n",
    "print(model)"
   ]
  },
  {
   "cell_type": "code",
   "execution_count": 51,
   "id": "8e9719fc",
   "metadata": {},
   "outputs": [
    {
     "name": "stdout",
     "output_type": "stream",
     "text": [
      "Predicted class: tensor([55])\n"
     ]
    }
   ],
   "source": [
    "X = torch.rand(1, 28, 28, device = device )\n",
    "logits = model(X)\n",
    "pred_probab = nn.Softmax(dim=1)(logits)\n",
    "y_pred = pred_probab.argmax(1)\n",
    "print(f\"Predicted class: {y_pred}\")"
   ]
  },
  {
   "cell_type": "code",
   "execution_count": 53,
   "id": "8c964ca3",
   "metadata": {},
   "outputs": [
    {
     "name": "stdout",
     "output_type": "stream",
     "text": [
      "First Linear weights: Parameter containing:\n",
      "tensor([[ 1.0338e-02, -1.1956e-02, -2.9492e-05,  ..., -2.5474e-02,\n",
      "         -1.0354e-02,  2.2475e-02],\n",
      "        [-2.6487e-02, -2.7928e-02,  1.2682e-02,  ..., -2.4515e-02,\n",
      "          3.5680e-02,  8.6003e-03],\n",
      "        [-4.2739e-04,  1.4339e-02,  2.2475e-02,  ..., -2.4439e-02,\n",
      "          2.4710e-02, -1.8112e-02],\n",
      "        ...,\n",
      "        [-2.5734e-02,  3.2784e-02,  4.4933e-03,  ...,  1.5198e-02,\n",
      "         -7.5404e-03,  2.2286e-02],\n",
      "        [-3.1251e-02, -3.2747e-02, -3.2712e-02,  ...,  2.5230e-02,\n",
      "         -1.2233e-02,  3.1318e-02],\n",
      "        [-1.7011e-02,  3.1351e-02,  2.4173e-02,  ...,  2.3219e-02,\n",
      "         -3.2210e-03, -1.1448e-02]], requires_grad=True) \n",
      "\n",
      "First Linear biases: Parameter containing:\n",
      "tensor([ 1.5640e-02, -3.2947e-02,  2.0174e-02, -2.9439e-02, -3.5209e-02,\n",
      "         2.2723e-02, -2.6893e-02, -2.9579e-02, -1.1997e-02, -2.3149e-02,\n",
      "         5.5825e-03,  3.4269e-02,  1.5609e-02,  3.3275e-03, -1.0903e-02,\n",
      "         2.5471e-02,  3.3622e-02, -3.4586e-02, -2.3871e-03,  1.5237e-02,\n",
      "         3.4628e-02, -2.7798e-02, -3.2816e-02,  3.2347e-02,  1.4504e-02,\n",
      "        -2.9114e-02,  2.5374e-02, -2.5514e-02, -3.1666e-02,  2.7272e-02,\n",
      "         2.9461e-02,  6.8953e-04,  6.3344e-03,  3.1117e-02,  2.5050e-03,\n",
      "        -3.1668e-02, -5.3184e-03, -1.9588e-02, -8.1648e-03, -2.1084e-02,\n",
      "        -2.6742e-02, -3.0500e-03,  1.9874e-02, -1.0201e-02, -1.5918e-02,\n",
      "         3.4504e-02, -1.0766e-02, -1.7255e-02,  2.0111e-02, -2.4304e-02,\n",
      "         3.3008e-02, -3.1767e-02,  1.4688e-02, -1.3100e-02, -5.2621e-03,\n",
      "         1.6055e-02, -1.7889e-02, -2.7968e-02, -9.7281e-03, -8.6024e-03,\n",
      "         3.2792e-02, -8.3950e-03, -2.3608e-02, -6.9769e-03,  6.1716e-03,\n",
      "        -6.1587e-03,  2.9066e-02,  1.5195e-02,  2.9335e-02,  1.9358e-02,\n",
      "         2.0752e-02, -1.3566e-02,  2.4945e-02, -1.7376e-02,  2.0089e-02,\n",
      "         3.5059e-02,  1.8113e-02, -2.8429e-02,  1.8605e-02,  2.3231e-02,\n",
      "         5.1602e-03, -2.9474e-05,  3.4637e-02, -1.7322e-02,  2.1424e-02,\n",
      "         1.4134e-02, -1.1811e-02, -1.6112e-02,  3.0725e-02, -5.2847e-03,\n",
      "         2.8448e-02,  3.2295e-02,  4.7903e-03, -2.2963e-03, -8.6425e-03,\n",
      "         2.3434e-02,  2.4472e-03,  7.3113e-03,  1.5167e-02,  1.1045e-02,\n",
      "        -2.0516e-02, -2.7229e-02,  1.5706e-02,  3.1996e-02,  1.4240e-02,\n",
      "        -3.3798e-02,  2.9222e-02,  2.9220e-02,  2.1020e-02,  2.8545e-02,\n",
      "        -3.1559e-02,  3.1581e-02,  2.1600e-02,  3.2836e-02,  2.8910e-02,\n",
      "         2.1843e-02, -8.8317e-03,  3.1062e-02, -1.5829e-02,  2.2890e-02,\n",
      "         3.3113e-02, -1.6937e-02, -1.3881e-02, -1.0677e-02,  2.9737e-02,\n",
      "         3.5082e-02, -3.3698e-03, -2.2353e-02, -1.9146e-02,  9.5042e-03,\n",
      "         3.2522e-02, -3.5163e-02, -3.4498e-02,  2.7195e-02, -4.3909e-03,\n",
      "        -1.6574e-02, -2.4931e-03,  1.3107e-02, -2.9200e-02,  2.9463e-02,\n",
      "        -2.2727e-02, -1.4169e-02, -2.4209e-03,  3.5631e-02,  1.5012e-02,\n",
      "        -3.5176e-02,  4.9098e-03, -2.4726e-02,  3.4120e-02,  1.9647e-02,\n",
      "        -2.3249e-02,  2.4317e-02,  1.4145e-02,  2.5491e-02,  2.7615e-02,\n",
      "        -1.9137e-02,  1.0564e-02,  9.7698e-03, -2.1948e-02,  4.8231e-03,\n",
      "         1.7737e-02, -3.0629e-02,  1.0245e-02, -3.3350e-02,  2.3221e-02,\n",
      "         2.1334e-02,  4.2581e-03,  2.2214e-02,  8.3565e-03,  3.2050e-02,\n",
      "         7.4921e-03, -5.7640e-03,  1.2565e-02, -1.2712e-02, -8.7190e-03,\n",
      "         2.6575e-02,  2.5011e-02,  1.0621e-02, -2.4427e-02, -5.2382e-03,\n",
      "         3.4507e-02,  2.8488e-03,  1.0422e-03,  3.0710e-02,  3.2312e-02,\n",
      "        -2.0662e-02, -4.5321e-05, -1.5187e-02, -1.5334e-02,  2.5194e-02,\n",
      "         8.6422e-03,  2.2016e-02, -1.6407e-02, -9.4143e-03,  1.9371e-02,\n",
      "        -1.1462e-02,  2.8650e-02, -1.5661e-02,  1.1694e-02,  3.4313e-03,\n",
      "        -2.8239e-02,  1.8788e-02,  1.7684e-03, -1.2021e-02,  5.1114e-03,\n",
      "         2.3476e-02,  1.8849e-02, -2.9496e-02, -2.4225e-02, -3.0009e-02,\n",
      "         1.8447e-02, -6.1334e-03,  1.0804e-03,  2.3796e-02, -1.3598e-02,\n",
      "        -9.8157e-03, -2.9936e-02, -2.0716e-02,  3.1611e-02,  1.3544e-02,\n",
      "         3.4168e-02, -1.5697e-02, -3.0025e-02, -3.5592e-02,  4.9575e-03,\n",
      "         1.3682e-02, -1.1649e-02, -2.4665e-02, -2.8864e-02, -3.0253e-02,\n",
      "        -1.7232e-02,  2.8608e-02,  6.0054e-03, -1.8586e-02,  3.4909e-02,\n",
      "        -2.8080e-03, -1.7470e-02, -3.2127e-03,  8.6080e-03,  2.6690e-02,\n",
      "         1.2991e-02,  2.9022e-02,  2.2328e-03,  1.7525e-02,  3.1950e-02,\n",
      "        -2.4127e-02, -2.9608e-02, -2.6696e-02, -1.0809e-02,  3.0849e-02,\n",
      "        -2.9422e-02, -3.4771e-02,  9.7901e-03,  3.0717e-02,  3.2562e-03,\n",
      "         9.9843e-03,  1.6150e-02, -5.3584e-04, -2.7272e-02,  3.0433e-02,\n",
      "         1.8441e-02,  2.0008e-02, -6.9241e-03, -3.5530e-02,  2.8933e-02,\n",
      "        -1.3782e-02,  2.4697e-02,  2.4205e-02, -6.1634e-03, -3.2502e-02,\n",
      "        -1.2036e-02, -4.6249e-03,  1.6043e-02, -1.9132e-02, -3.0665e-02,\n",
      "        -2.5149e-02, -2.6151e-02, -1.4373e-02, -2.4552e-02, -3.2590e-02,\n",
      "        -2.2849e-03, -3.0161e-02,  2.5927e-02, -1.4016e-03,  3.0512e-02,\n",
      "         2.5877e-02, -1.1498e-02,  2.9247e-02,  6.7517e-03, -5.7092e-03,\n",
      "        -3.5330e-04,  8.5967e-03,  2.0507e-02,  3.2543e-03, -1.0405e-02,\n",
      "        -1.3038e-02, -1.2278e-02, -2.7993e-02, -7.8838e-03, -1.4750e-02,\n",
      "        -2.1656e-02, -4.3350e-03,  1.5289e-02, -3.0366e-02, -2.4667e-02,\n",
      "        -4.8436e-04, -3.1070e-02,  6.0859e-03,  3.2797e-02,  2.0664e-02,\n",
      "        -1.2625e-02, -1.4209e-02,  1.4487e-02, -1.4866e-02, -2.1727e-02,\n",
      "        -2.7638e-03,  1.3101e-02, -1.2675e-02, -3.0040e-02, -1.6834e-02,\n",
      "        -2.7340e-02, -1.7930e-03,  3.0515e-02, -7.0612e-03,  2.8113e-03,\n",
      "        -1.6767e-02,  2.9252e-04,  2.9691e-02,  1.8150e-02, -2.1417e-02,\n",
      "        -2.0778e-02,  1.6172e-02,  1.2552e-02, -1.4276e-03,  3.0451e-02,\n",
      "        -2.1234e-02, -9.8952e-05, -3.1755e-02, -3.0029e-02, -3.2727e-02,\n",
      "        -1.2847e-03, -1.4875e-02, -2.7308e-03,  1.7575e-02,  1.4191e-02,\n",
      "         2.1806e-02, -2.5693e-02, -6.2167e-03,  1.0438e-02,  2.9822e-02,\n",
      "        -1.0266e-03,  1.6610e-02,  1.3320e-02, -8.0750e-04,  3.3612e-02,\n",
      "         1.0632e-02, -1.3735e-02,  4.6013e-03,  1.2400e-02,  1.4262e-02,\n",
      "        -5.3287e-04,  1.4074e-02,  8.2328e-03, -3.1508e-02,  3.4668e-02,\n",
      "        -3.2520e-02,  3.2861e-02, -1.1265e-03,  1.6134e-02,  7.5118e-03,\n",
      "         1.0494e-02,  1.4212e-02,  3.3016e-02, -3.5290e-03, -3.4927e-02,\n",
      "         1.6035e-02,  3.5400e-02, -2.4068e-02,  2.4616e-03,  8.0093e-03,\n",
      "         1.4462e-03, -4.0565e-03, -4.3546e-03, -2.6682e-02,  6.0596e-03,\n",
      "        -5.1816e-03, -8.8390e-04,  3.2955e-02, -3.4550e-02,  8.0659e-03,\n",
      "         3.5676e-02,  2.7626e-02,  3.1195e-02, -7.6821e-03,  2.9224e-02,\n",
      "        -9.7237e-03, -4.0434e-03, -3.5040e-02,  3.0164e-02, -2.7669e-02,\n",
      "         2.4365e-02, -5.1027e-03,  2.0165e-02, -2.1838e-02, -5.0016e-04,\n",
      "        -2.9158e-02, -1.6157e-02, -9.9609e-03, -1.8335e-02, -2.2549e-02,\n",
      "        -2.4265e-02,  1.1590e-02,  2.4104e-02, -1.3852e-02, -2.1518e-02,\n",
      "        -5.5519e-03,  1.3611e-02, -1.9665e-02,  5.7964e-03,  1.4236e-02,\n",
      "        -6.8477e-03, -3.1712e-02,  3.1321e-02, -1.2179e-02,  2.8710e-02,\n",
      "        -1.9473e-02,  2.6123e-02, -2.4094e-02, -2.9139e-03, -1.1549e-02,\n",
      "         2.2114e-02, -2.2271e-02, -1.5006e-02,  4.1536e-03,  2.4012e-02,\n",
      "         3.4793e-02, -2.0022e-02,  3.5980e-03, -1.3828e-03,  2.0973e-02,\n",
      "         6.5553e-03,  3.2715e-03, -2.2131e-03,  2.6327e-02,  2.4433e-02,\n",
      "         2.5676e-02,  1.9349e-02, -4.7123e-03, -3.2447e-02,  7.8403e-03,\n",
      "        -1.8652e-02,  1.2431e-02, -2.2399e-02,  1.1675e-02, -3.5105e-03,\n",
      "         3.9574e-03,  5.4858e-03,  1.6780e-02,  1.9882e-03,  1.3573e-03,\n",
      "        -3.8831e-03, -7.1896e-03, -1.5546e-02, -3.2322e-02,  2.3664e-02,\n",
      "        -7.1015e-03, -2.5525e-03, -4.4899e-03, -2.2225e-02, -3.3015e-02,\n",
      "         1.8463e-02, -2.1996e-03,  3.1544e-03, -2.3593e-02, -3.1254e-02,\n",
      "        -6.0455e-03, -6.4832e-04,  3.3775e-02, -3.2889e-02, -2.5956e-02,\n",
      "        -3.2660e-02, -2.3394e-02, -3.1267e-03, -2.0378e-02,  3.1616e-02,\n",
      "         2.6078e-02, -2.0967e-03,  2.6215e-03, -4.9008e-03, -2.6770e-02,\n",
      "        -3.4357e-02,  1.3457e-02,  2.7344e-02, -2.4633e-02,  3.3318e-02,\n",
      "         2.8126e-02,  1.0980e-02, -2.1259e-02, -2.5678e-02,  3.2421e-02,\n",
      "        -3.5534e-02, -2.2102e-02, -6.7839e-03, -1.6466e-02, -3.5506e-02,\n",
      "        -3.4021e-02, -1.1950e-02,  6.4367e-03, -1.6479e-02, -3.4620e-03,\n",
      "         2.6545e-02,  1.9815e-02], requires_grad=True) \n",
      " \n"
     ]
    }
   ],
   "source": [
    "#nn.Linear module randomly inits the weights and bias for each layer\n",
    "#and internally stores the values in Tensors\n",
    "\n",
    "print(f\"First Linear weights: {model.linear_relu_stack[0].weight} \\n\")\n",
    "print(f\"First Linear biases: {model.linear_relu_stack[0].bias} \\n \")"
   ]
  },
  {
   "cell_type": "code",
   "execution_count": 57,
   "id": "2cd0f92b",
   "metadata": {},
   "outputs": [
    {
     "name": "stdout",
     "output_type": "stream",
     "text": [
      "torch.Size([3, 28, 28])\n"
     ]
    }
   ],
   "source": [
    "#takes 3 images of FashionMNIST\n",
    "input_image = torch.rand(3, 28, 28)\n",
    "print(input_image.size())"
   ]
  },
  {
   "cell_type": "code",
   "execution_count": 59,
   "id": "74160d8e",
   "metadata": {},
   "outputs": [
    {
     "name": "stdout",
     "output_type": "stream",
     "text": [
      "torch.Size([3, 784])\n"
     ]
    }
   ],
   "source": [
    "#converts each 2D 28x28 array into a continous array of 784 pixels \n",
    "\n",
    "flatten = nn.Flatten()\n",
    "flat_image = flatten(input_image)\n",
    "print(flat_image.size())"
   ]
  },
  {
   "cell_type": "code",
   "execution_count": 61,
   "id": "e16e4ba1",
   "metadata": {},
   "outputs": [
    {
     "name": "stdout",
     "output_type": "stream",
     "text": [
      "torch.Size([3, 20])\n"
     ]
    }
   ],
   "source": [
    "#Transformation calculation\n",
    "##weight * input + bias\n",
    "\n",
    "#Applies linear transformation on the input using its stored weigths and biases\n",
    "#greyscale is connected to neurons in the hidden layer\n",
    "\n",
    "layer1 = nn.Linear(in_features=28*28, out_features=20)\n",
    "hidden1 = layer1(flat_image)\n",
    "print(hidden1.size())"
   ]
  },
  {
   "cell_type": "code",
   "execution_count": 63,
   "id": "966e2c8d",
   "metadata": {},
   "outputs": [
    {
     "name": "stdout",
     "output_type": "stream",
     "text": [
      "Before ReLU: tensor([[0.3748, 0.0000, 0.0000, 0.0000, 0.0000, 0.6097, 0.0000, 0.0000, 0.2766,\n",
      "         0.0000, 0.0000, 0.0000, 0.0000, 0.0000, 0.1121, 0.0126, 0.0000, 0.1395,\n",
      "         0.0000, 0.0789],\n",
      "        [0.3658, 0.0000, 0.0000, 0.0000, 0.0000, 0.5254, 0.0000, 0.0072, 0.4443,\n",
      "         0.0000, 0.2244, 0.1711, 0.0000, 0.0000, 0.0000, 0.3610, 0.0307, 0.0000,\n",
      "         0.0000, 0.0586],\n",
      "        [0.1996, 0.0000, 0.0000, 0.0000, 0.0000, 0.8078, 0.0000, 0.0000, 0.3890,\n",
      "         0.0000, 0.3736, 0.0000, 0.0405, 0.0000, 0.0000, 0.2496, 0.0980, 0.0000,\n",
      "         0.0381, 0.2717]], grad_fn=<ReluBackward0>)\n",
      "\n",
      "\n",
      "After ReLU: tensor([[0.3748, 0.0000, 0.0000, 0.0000, 0.0000, 0.6097, 0.0000, 0.0000, 0.2766,\n",
      "         0.0000, 0.0000, 0.0000, 0.0000, 0.0000, 0.1121, 0.0126, 0.0000, 0.1395,\n",
      "         0.0000, 0.0789],\n",
      "        [0.3658, 0.0000, 0.0000, 0.0000, 0.0000, 0.5254, 0.0000, 0.0072, 0.4443,\n",
      "         0.0000, 0.2244, 0.1711, 0.0000, 0.0000, 0.0000, 0.3610, 0.0307, 0.0000,\n",
      "         0.0000, 0.0586],\n",
      "        [0.1996, 0.0000, 0.0000, 0.0000, 0.0000, 0.8078, 0.0000, 0.0000, 0.3890,\n",
      "         0.0000, 0.3736, 0.0000, 0.0405, 0.0000, 0.0000, 0.2496, 0.0980, 0.0000,\n",
      "         0.0381, 0.2717]], grad_fn=<ReluBackward0>)\n"
     ]
    }
   ],
   "source": [
    "#does ReLU stuff\n",
    "\n",
    "print(f\"Before ReLU: {hidden1}\\n\\n\")\n",
    "hidden1 = nn.ReLU()(hidden1)\n",
    "print(f\"After ReLU: {hidden1}\")"
   ]
  },
  {
   "cell_type": "code",
   "execution_count": 65,
   "id": "2da50d34",
   "metadata": {},
   "outputs": [],
   "source": [
    "#creates an ordered container of modules\n",
    "\n",
    "\n",
    "seq_modules = nn.Sequential(\n",
    "    flatten,\n",
    "    layer1,\n",
    "    nn.ReLU(),\n",
    "    nn.Linear(20, 10)\n",
    ")\n",
    "input_image = torch.rand(3, 28, 28)\n",
    "logits = seq_modules(input_image)"
   ]
  },
  {
   "cell_type": "code",
   "execution_count": 67,
   "id": "10d08db6",
   "metadata": {},
   "outputs": [],
   "source": [
    "#taxes relative max and makes it 1\n",
    "#makes everything relative to that between 0 and 1\n",
    "\n",
    "softmax = nn.Softmax(dim = 1)\n",
    "pred_probab = softmax(logits)"
   ]
  },
  {
   "cell_type": "code",
   "execution_count": 69,
   "id": "17f11e40",
   "metadata": {},
   "outputs": [
    {
     "name": "stdout",
     "output_type": "stream",
     "text": [
      "Model structure:  NeuralNetwork(\n",
      "  (flatten): Flatten(start_dim=1, end_dim=-1)\n",
      "  (linear_relu_stack): Sequential(\n",
      "    (0): Linear(in_features=784, out_features=512, bias=True)\n",
      "    (1): ReLU()\n",
      "    (2): Linear(in_features=512, out_features=512, bias=True)\n",
      "    (3): ReLU()\n",
      "  )\n",
      ") \n",
      "\n",
      "\n",
      "Layer: linear_relu_stack.0.weight | Size: torch.Size([512, 784]) | Values : tensor([[ 1.0338e-02, -1.1956e-02, -2.9492e-05,  ..., -2.5474e-02,\n",
      "         -1.0354e-02,  2.2475e-02],\n",
      "        [-2.6487e-02, -2.7928e-02,  1.2682e-02,  ..., -2.4515e-02,\n",
      "          3.5680e-02,  8.6003e-03]], grad_fn=<SliceBackward0>) \n",
      "\n",
      "Layer: linear_relu_stack.0.bias | Size: torch.Size([512]) | Values : tensor([ 0.0156, -0.0329], grad_fn=<SliceBackward0>) \n",
      "\n",
      "Layer: linear_relu_stack.2.weight | Size: torch.Size([512, 512]) | Values : tensor([[-0.0315, -0.0344, -0.0415,  ...,  0.0161,  0.0106,  0.0030],\n",
      "        [ 0.0440, -0.0178, -0.0313,  ...,  0.0197, -0.0194,  0.0368]],\n",
      "       grad_fn=<SliceBackward0>) \n",
      "\n",
      "Layer: linear_relu_stack.2.bias | Size: torch.Size([512]) | Values : tensor([0.0364, 0.0372], grad_fn=<SliceBackward0>) \n",
      "\n"
     ]
    }
   ],
   "source": [
    "print(\"Model structure: \", model, \"\\n\\n\")\n",
    "\n",
    "for name, param in model.named_parameters():\n",
    "    print(f\"Layer: {name} | Size: {param.size()} | Values : {param[:2]} \\n\")"
   ]
  },
  {
   "cell_type": "markdown",
   "id": "c9593763",
   "metadata": {},
   "source": [
    "## Automatic differentiation"
   ]
  },
  {
   "cell_type": "code",
   "execution_count": 21,
   "id": "2bea6530",
   "metadata": {},
   "outputs": [],
   "source": [
    "%matplotlib inline\n",
    "import torch\n",
    "\n",
    "x = torch.ones(5) #input tensor\n",
    "y = torch.zeros(3) # expected output\n",
    "w = torch.randn(5, 3, requires_grad = True)\n",
    "b = torch.randn(3, requires_grad = True)\n",
    "z = torch.matmul(x, w)+b\n",
    "#measures the difference between predicted binary outcomes\n",
    "#and actual binary labels\n",
    "#penalizes predictions that are confident but wrong\n",
    "# =(y*log(p) + (1 - y)* log(1 -p))\n",
    "##where p is the probability of 1 \n",
    "##and y is the actuall class \n",
    "loss = torch.nn.functional.binary_cross_entropy_with_logits(z, y) "
   ]
  },
  {
   "cell_type": "code",
   "execution_count": 23,
   "id": "0c267270",
   "metadata": {},
   "outputs": [
    {
     "name": "stdout",
     "output_type": "stream",
     "text": [
      "Gradient function for z = <AddBackward0 object at 0x7fa1ccd61d20>\n",
      "Gradient function for loss = <BinaryCrossEntropyWithLogitsBackward0 object at 0x7fa1ccd624d0>\n"
     ]
    }
   ],
   "source": [
    "print('Gradient function for z =', z.grad_fn)\n",
    "print('Gradient function for loss =', loss.grad_fn)\n",
    "\n",
    "#gradients minimize error between predicted and acutal results"
   ]
  },
  {
   "cell_type": "code",
   "execution_count": 24,
   "id": "c027b641",
   "metadata": {},
   "outputs": [
    {
     "name": "stdout",
     "output_type": "stream",
     "text": [
      "tensor([[0.1530, 0.0356, 0.3256],\n",
      "        [0.1530, 0.0356, 0.3256],\n",
      "        [0.1530, 0.0356, 0.3256],\n",
      "        [0.1530, 0.0356, 0.3256],\n",
      "        [0.1530, 0.0356, 0.3256]])\n",
      "tensor([0.1530, 0.0356, 0.3256])\n"
     ]
    }
   ],
   "source": [
    "#gradLoss/gradw \n",
    "#gradLoss/gradb\n",
    "#This can only be done with leaf nodes that have\n",
    "#required_graph property set to true\n",
    "\n",
    "loss.backward()\n",
    "print(w.grad)\n",
    "print(b.grad)"
   ]
  },
  {
   "cell_type": "code",
   "execution_count": 27,
   "id": "996441ec",
   "metadata": {},
   "outputs": [
    {
     "name": "stdout",
     "output_type": "stream",
     "text": [
      "True\n",
      "False\n"
     ]
    }
   ],
   "source": [
    "#If we just want to do forward computations\n",
    "#we can disable gradient tracking\n",
    "\n",
    "z = torch.matmul(x, w)+b\n",
    "print(z.requires_grad)\n",
    "\n",
    "with torch.no_grad():\n",
    "    z = torch.matmul(x, w)+b\n",
    "print(z.requires_grad)"
   ]
  },
  {
   "cell_type": "code",
   "execution_count": 29,
   "id": "b5e4364a",
   "metadata": {},
   "outputs": [
    {
     "name": "stdout",
     "output_type": "stream",
     "text": [
      "False\n"
     ]
    }
   ],
   "source": [
    "#Same thing but with a different function\n",
    "\n",
    "z = torch.matmul(x, w)+b\n",
    "z_det = z.detach()\n",
    "print(z_det.requires_grad)"
   ]
  },
  {
   "cell_type": "markdown",
   "id": "64817112",
   "metadata": {},
   "source": [
    "## Optimizing the model parameters"
   ]
  },
  {
   "cell_type": "code",
   "execution_count": 32,
   "id": "04bbc6cb",
   "metadata": {},
   "outputs": [],
   "source": [
    "#already wrote this \n",
    "\n",
    "%matplotlib inline\n",
    "import torch\n",
    "from torch import nn\n",
    "from torch.utils.data import DataLoader\n",
    "from torchvision import datasets\n",
    "from torchvision.transforms import ToTensor, Lambda\n",
    "\n",
    "training_data = datasets.FashionMNIST(\n",
    "    root=\"data\",\n",
    "    train=True,\n",
    "    download=True,\n",
    "    transform=ToTensor()\n",
    ")\n",
    "\n",
    "test_data = datasets.FashionMNIST(\n",
    "    root=\"data\",\n",
    "    train=False,\n",
    "    download=True,\n",
    "    transform=ToTensor()\n",
    ")\n",
    "\n",
    "train_dataloader = DataLoader(training_data, batch_size=64)\n",
    "test_dataloader = DataLoader(test_data, batch_size=64)\n",
    "\n",
    "class NeuralNetwork(nn.Module):\n",
    "    def __init__(self):\n",
    "        super(NeuralNetwork, self).__init__()\n",
    "        self.flatten = nn.Flatten()\n",
    "        self.linear_relu_stack = nn.Sequential(\n",
    "            nn.Linear(28*28, 512),\n",
    "            nn.ReLU(),\n",
    "            nn.Linear(512, 512),\n",
    "            nn.ReLU(),\n",
    "            nn.Linear(512, 10),\n",
    "            nn.ReLU()\n",
    "        )\n",
    "\n",
    "    def forward(self, x):\n",
    "        x = self.flatten(x)\n",
    "        logits = self.linear_relu_stack(x)\n",
    "        return logits\n",
    "\n",
    "model = NeuralNetwork()"
   ]
  },
  {
   "cell_type": "code",
   "execution_count": 38,
   "id": "37ef75e9",
   "metadata": {},
   "outputs": [],
   "source": [
    "#learning rate finds the best weights\n",
    "##closer to zero means longer, more accurate weights\n",
    "##higher steps means faster and less accurate\n",
    "\n",
    "#Batch size is the number of data samples seen in each epoch\n",
    "\n",
    "#Epochs are the number of times the entire dataset is \n",
    "#passed through the network\n",
    "\n",
    "learning_rate = 1e-3\n",
    "batch_size = 64\n",
    "epochs = 5"
   ]
  },
  {
   "cell_type": "code",
   "execution_count": 40,
   "id": "0f2c3983",
   "metadata": {},
   "outputs": [],
   "source": [
    "#Inits the loss function\n",
    "    #measures tghe degree of dissimilarity of an obtained result\n",
    "    #to the target value\n",
    "    #We want to minimize this \n",
    "    \n",
    "#to calculate loss we make a prediction using the inputs of our\n",
    "#given data sample and compare it against the true data label value\n",
    "\n",
    "loss_fn = nn.CrossEntropyLoss()"
   ]
  },
  {
   "cell_type": "code",
   "execution_count": 42,
   "id": "381f6e4b",
   "metadata": {},
   "outputs": [],
   "source": [
    "#adjusts model parameters to reduce model error in each training step\n",
    "optimizer = torch.optim.SGD(model.parameters(), lr=learning_rate)\n",
    "\n",
    "#INSIDE:\n",
    "    #Calls optimizer.zero_grad() to reset the gradients of the model parameters\n",
    "            #This is to prevent double counting\n",
    "    #Back-propagates the prediction loss with loss.backwards() \n",
    "    \n",
    "    #Cals optimizer.step() to adjust the parameters by the gradients collected in the backward pass"
   ]
  },
  {
   "cell_type": "code",
   "execution_count": 44,
   "id": "cf290be1",
   "metadata": {},
   "outputs": [],
   "source": [
    "## Full implementation:\n",
    "\n",
    "def train_loop(dataloader, model, loss_fn, optimizer):\n",
    "    size = len(dataloader.dataset)\n",
    "    for batch, (X, y) in enumerate(dataloader):\n",
    "        #computer prediction and loss\n",
    "        pred = model(X)\n",
    "        loss = loss_fn(pred, y)\n",
    "        \n",
    "        #Backpropagation\n",
    "        optimizer.zero_grad()\n",
    "        loss.backward()\n",
    "        optimizer.step()\n",
    "        \n",
    "        if batch % 100 == 0:\n",
    "            loss, current = loss.item(), batch * len(X)\n",
    "            print(f\"loss: {loss:>7f} [{current:>5d}/{size:>5d}]\")\n",
    "            \n",
    "            \n",
    "def test_loop(dataloader, model, loss_fn):\n",
    "    size = len(dataloader.dataset)\n",
    "    test_loss, correct = 0, 0\n",
    "    \n",
    "    with torch.no_grad():\n",
    "        for X, y in dataloader:\n",
    "            pred = model(X)\n",
    "            test_loss += loss_fn(pred, y).item()\n",
    "            correct += (pred.argmax(1) == y).type(torch.float).sum().item()\n",
    "            \n",
    "    test_loss /= size\n",
    "    correct /= size\n",
    "    print(f\"Test Error: \\n Accuracy: {(100 *correct):0.1f}%, Avg loss: {test_loss:>8f} \\n\")"
   ]
  },
  {
   "cell_type": "code",
   "execution_count": 45,
   "id": "8b13f137",
   "metadata": {},
   "outputs": [
    {
     "name": "stdout",
     "output_type": "stream",
     "text": [
      "Epoch 1\n",
      " ----------------------------\n",
      "loss: 2.306163 [    0/60000]\n",
      "loss: 2.300706 [ 6400/60000]\n",
      "loss: 2.291264 [12800/60000]\n",
      "loss: 2.281506 [19200/60000]\n",
      "loss: 2.264656 [25600/60000]\n",
      "loss: 2.262156 [32000/60000]\n",
      "loss: 2.273452 [38400/60000]\n",
      "loss: 2.259865 [44800/60000]\n",
      "loss: 2.261069 [51200/60000]\n",
      "loss: 2.229286 [57600/60000]\n",
      "Test Error: \n",
      " Accuracy: 42.0%, Avg loss: 0.035021 \n",
      "\n",
      "Epoch 2\n",
      " ----------------------------\n",
      "loss: 2.263215 [    0/60000]\n",
      "loss: 2.235175 [ 6400/60000]\n",
      "loss: 2.212063 [12800/60000]\n",
      "loss: 2.209132 [19200/60000]\n",
      "loss: 2.152148 [25600/60000]\n",
      "loss: 2.162263 [32000/60000]\n",
      "loss: 2.192261 [38400/60000]\n",
      "loss: 2.158315 [44800/60000]\n",
      "loss: 2.162209 [51200/60000]\n",
      "loss: 2.117159 [57600/60000]\n",
      "Test Error: \n",
      " Accuracy: 45.8%, Avg loss: 0.032996 \n",
      "\n",
      "Epoch 3\n",
      " ----------------------------\n",
      "loss: 2.152061 [    0/60000]\n",
      "loss: 2.092113 [ 6400/60000]\n",
      "loss: 2.035079 [12800/60000]\n",
      "loss: 2.065351 [19200/60000]\n",
      "loss: 1.959420 [25600/60000]\n",
      "loss: 1.990680 [32000/60000]\n",
      "loss: 2.052766 [38400/60000]\n",
      "loss: 1.983060 [44800/60000]\n",
      "loss: 2.005583 [51200/60000]\n",
      "loss: 1.956547 [57600/60000]\n",
      "Test Error: \n",
      " Accuracy: 46.3%, Avg loss: 0.029966 \n",
      "\n",
      "Epoch 4\n",
      " ----------------------------\n",
      "loss: 1.988147 [    0/60000]\n",
      "loss: 1.887042 [ 6400/60000]\n",
      "loss: 1.792024 [12800/60000]\n",
      "loss: 1.867509 [19200/60000]\n",
      "loss: 1.728413 [25600/60000]\n",
      "loss: 1.800527 [32000/60000]\n",
      "loss: 1.897389 [38400/60000]\n",
      "loss: 1.808383 [44800/60000]\n",
      "loss: 1.852922 [51200/60000]\n",
      "loss: 1.812375 [57600/60000]\n",
      "Test Error: \n",
      " Accuracy: 48.9%, Avg loss: 0.027185 \n",
      "\n",
      "Epoch 5\n",
      " ----------------------------\n",
      "loss: 1.836656 [    0/60000]\n",
      "loss: 1.708955 [ 6400/60000]\n",
      "loss: 1.592379 [12800/60000]\n",
      "loss: 1.708464 [19200/60000]\n",
      "loss: 1.563354 [25600/60000]\n",
      "loss: 1.665529 [32000/60000]\n",
      "loss: 1.783900 [38400/60000]\n",
      "loss: 1.692883 [44800/60000]\n",
      "loss: 1.742663 [51200/60000]\n",
      "loss: 1.712851 [57600/60000]\n",
      "Test Error: \n",
      " Accuracy: 51.4%, Avg loss: 0.025294 \n",
      "\n",
      "Epoch 6\n",
      " ----------------------------\n",
      "loss: 1.722182 [    0/60000]\n",
      "loss: 1.589898 [ 6400/60000]\n",
      "loss: 1.456338 [12800/60000]\n",
      "loss: 1.602777 [19200/60000]\n",
      "loss: 1.454722 [25600/60000]\n",
      "loss: 1.569436 [32000/60000]\n",
      "loss: 1.697743 [38400/60000]\n",
      "loss: 1.611472 [44800/60000]\n",
      "loss: 1.659031 [51200/60000]\n",
      "loss: 1.636120 [57600/60000]\n",
      "Test Error: \n",
      " Accuracy: 53.3%, Avg loss: 0.023935 \n",
      "\n",
      "Epoch 7\n",
      " ----------------------------\n",
      "loss: 1.632810 [    0/60000]\n",
      "loss: 1.507318 [ 6400/60000]\n",
      "loss: 1.356504 [12800/60000]\n",
      "loss: 1.523095 [19200/60000]\n",
      "loss: 1.376828 [25600/60000]\n",
      "loss: 1.495433 [32000/60000]\n",
      "loss: 1.632366 [38400/60000]\n",
      "loss: 1.552413 [44800/60000]\n",
      "loss: 1.594671 [51200/60000]\n",
      "loss: 1.575050 [57600/60000]\n",
      "Test Error: \n",
      " Accuracy: 54.1%, Avg loss: 0.022903 \n",
      "\n",
      "Epoch 8\n",
      " ----------------------------\n",
      "loss: 1.562314 [    0/60000]\n",
      "loss: 1.446040 [ 6400/60000]\n",
      "loss: 1.279356 [12800/60000]\n",
      "loss: 1.458956 [19200/60000]\n",
      "loss: 1.319632 [25600/60000]\n",
      "loss: 1.437533 [32000/60000]\n",
      "loss: 1.583014 [38400/60000]\n",
      "loss: 1.510189 [44800/60000]\n",
      "loss: 1.545956 [51200/60000]\n",
      "loss: 1.525580 [57600/60000]\n",
      "Test Error: \n",
      " Accuracy: 54.7%, Avg loss: 0.022109 \n",
      "\n",
      "Epoch 9\n",
      " ----------------------------\n",
      "loss: 1.506084 [    0/60000]\n",
      "loss: 1.397967 [ 6400/60000]\n",
      "loss: 1.218571 [12800/60000]\n",
      "loss: 1.406395 [19200/60000]\n",
      "loss: 1.277337 [25600/60000]\n",
      "loss: 1.390975 [32000/60000]\n",
      "loss: 1.545798 [38400/60000]\n",
      "loss: 1.481127 [44800/60000]\n",
      "loss: 1.508571 [51200/60000]\n",
      "loss: 1.485266 [57600/60000]\n",
      "Test Error: \n",
      " Accuracy: 55.0%, Avg loss: 0.021496 \n",
      "\n",
      "Epoch 10\n",
      " ----------------------------\n",
      "loss: 1.461626 [    0/60000]\n",
      "loss: 1.359999 [ 6400/60000]\n",
      "loss: 1.171150 [12800/60000]\n",
      "loss: 1.364366 [19200/60000]\n",
      "loss: 1.246475 [25600/60000]\n",
      "loss: 1.353905 [32000/60000]\n",
      "loss: 1.517459 [38400/60000]\n",
      "loss: 1.460489 [44800/60000]\n",
      "loss: 1.479114 [51200/60000]\n",
      "loss: 1.452261 [57600/60000]\n",
      "Test Error: \n",
      " Accuracy: 55.4%, Avg loss: 0.021021 \n",
      "\n",
      "done\n"
     ]
    }
   ],
   "source": [
    "loss_fn = nn.CrossEntropyLoss()\n",
    "optimizer = torch.optim.SGD(model.parameters(), lr=learning_rate)\n",
    "\n",
    "epochs = 10\n",
    "for t in range(epochs):\n",
    "    print(f\"Epoch {t+1}\\n ----------------------------\")\n",
    "    train_loop(train_dataloader, model, loss_fn, optimizer)\n",
    "    test_loop(test_dataloader, model, loss_fn)\n",
    "print(\"done\")"
   ]
  },
  {
   "cell_type": "code",
   "execution_count": 46,
   "id": "42c4dc78",
   "metadata": {},
   "outputs": [
    {
     "name": "stdout",
     "output_type": "stream",
     "text": [
      "Saved PyTorch Model State to model.pth\n"
     ]
    }
   ],
   "source": [
    "#saving a model\n",
    "\n",
    "torch.save(model.state_dict(), \"data/model.pth\")\n",
    "print(\"Saved PyTorch Model State to model.pth\")"
   ]
  },
  {
   "cell_type": "markdown",
   "id": "c1f2254e",
   "metadata": {},
   "source": [
    "## Loading a model"
   ]
  },
  {
   "cell_type": "code",
   "execution_count": 48,
   "id": "af9e5eb4",
   "metadata": {},
   "outputs": [],
   "source": [
    "%matplotlib inline\n",
    "import torch\n",
    "import onnxruntime\n",
    "from torch import nn\n",
    "import torch.onnx as onnx\n",
    "import torchvision.models as models\n",
    "from torchvision import datasets\n",
    "from torchvision.transforms import ToTensor"
   ]
  },
  {
   "cell_type": "code",
   "execution_count": 49,
   "id": "bcc30617",
   "metadata": {},
   "outputs": [],
   "source": [
    "class NeuralNetwork(nn.Module):\n",
    "    def __init__(self):\n",
    "        super(NeuralNetwork, self).__init__()\n",
    "        self.flatten = nn.Flatten()\n",
    "        self.linear_relu_stack = nn.Sequential(\n",
    "            nn.Linear(28*28, 512),\n",
    "            nn.ReLU(),\n",
    "            nn.Linear(512, 512),\n",
    "            nn.ReLU(),\n",
    "            nn.Linear(512, 10),\n",
    "            nn.ReLU()\n",
    "        )\n",
    "\n",
    "    def forward(self, x):\n",
    "        x = self.flatten(x)\n",
    "        logits = self.linear_relu_stack(x)\n",
    "        return logits"
   ]
  },
  {
   "cell_type": "code",
   "execution_count": 50,
   "id": "66cd012c",
   "metadata": {},
   "outputs": [
    {
     "data": {
      "text/plain": [
       "NeuralNetwork(\n",
       "  (flatten): Flatten(start_dim=1, end_dim=-1)\n",
       "  (linear_relu_stack): Sequential(\n",
       "    (0): Linear(in_features=784, out_features=512, bias=True)\n",
       "    (1): ReLU()\n",
       "    (2): Linear(in_features=512, out_features=512, bias=True)\n",
       "    (3): ReLU()\n",
       "    (4): Linear(in_features=512, out_features=10, bias=True)\n",
       "    (5): ReLU()\n",
       "  )\n",
       ")"
      ]
     },
     "execution_count": 50,
     "metadata": {},
     "output_type": "execute_result"
    }
   ],
   "source": [
    "#loads the model\n",
    "\n",
    "model = NeuralNetwork()\n",
    "model.load_state_dict(torch.load('data/model.pth'))\n",
    "model.eval()"
   ]
  },
  {
   "cell_type": "code",
   "execution_count": 53,
   "id": "f02b1908",
   "metadata": {},
   "outputs": [],
   "source": [
    "#EXPORTING MODEL TO ONNX\n",
    "    #Helps to trian and accelerate inference on any hardware, cloud, or edge device\n",
    "    #Supports java, JS, C#, and ML.NET\n",
    "    \n",
    "input_image = torch.zeros((1, 28, 28))\n",
    "onnx_model = 'data/model.onnx'\n",
    "onnx.export(model, input_image, onnx_model)"
   ]
  },
  {
   "cell_type": "code",
   "execution_count": 55,
   "id": "ce98b247",
   "metadata": {},
   "outputs": [],
   "source": [
    "test_data = datasets.FashionMNIST(\n",
    "    root=\"data\",\n",
    "    train=False,\n",
    "    download=True,\n",
    "    transform=ToTensor()\n",
    ")\n",
    "\n",
    "classes = [\n",
    "    \"T-shirt/top\",\n",
    "    \"Trouser\",\n",
    "    \"Pullover\",\n",
    "    \"Dress\",\n",
    "    \"Coat\",\n",
    "    \"Sandal\",\n",
    "    \"Shirt\",\n",
    "    \"Sneaker\",\n",
    "    \"Bag\",\n",
    "    \"Ankle boot\",\n",
    "]\n",
    "x, y = test_data[0][0], test_data[0][1]"
   ]
  },
  {
   "cell_type": "code",
   "execution_count": 58,
   "id": "ab4125f1",
   "metadata": {},
   "outputs": [
    {
     "name": "stdout",
     "output_type": "stream",
     "text": [
      "Precited: \"Ankle boot\", Actual: \"Ankle boot\"\n"
     ]
    }
   ],
   "source": [
    "#create an inference session \n",
    "\n",
    "session = onnxruntime.InferenceSession(onnx_model, None)\n",
    "input_name = session.get_inputs()[0].name\n",
    "output_name = session.get_outputs()[0].name\n",
    "\n",
    "result = session.run([output_name], {input_name: x.numpy()})\n",
    "predicted, actual = classes[result[0][0].argmax(0)], classes[y]\n",
    "print(f'Precited: \"{predicted}\", Actual: \"{actual}\"')"
   ]
  }
 ],
 "metadata": {
  "kernelspec": {
   "display_name": "Python 3 (ipykernel)",
   "language": "python",
   "name": "python3"
  },
  "language_info": {
   "codemirror_mode": {
    "name": "ipython",
    "version": 3
   },
   "file_extension": ".py",
   "mimetype": "text/x-python",
   "name": "python",
   "nbconvert_exporter": "python",
   "pygments_lexer": "ipython3",
   "version": "3.10.12"
  }
 },
 "nbformat": 4,
 "nbformat_minor": 5
}
